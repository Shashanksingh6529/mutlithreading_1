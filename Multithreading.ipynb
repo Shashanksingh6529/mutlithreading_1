{
 "cells": [
  {
   "cell_type": "markdown",
   "id": "6f745d8d-f6c8-4cb7-b47e-d241a13bb3f2",
   "metadata": {},
   "source": [
    "Q1. What is multithreading in Python? Why is it used? Name the module used to handle threads in Python. Why is the threading module used? Write the use of the following functions (activeCount, currentThread, enumerate)."
   ]
  },
  {
   "cell_type": "code",
   "execution_count": 1,
   "id": "905d677a-e515-4ab4-91de-fffb4e64873e",
   "metadata": {},
   "outputs": [
    {
     "name": "stdout",
     "output_type": "stream",
     "text": [
      "8\n",
      "<_MainThread(MainThread, started 140040512972608)>\n",
      "[<_MainThread(MainThread, started 140040512972608)>, <Thread(IOPub, started daemon 140040442443328)>, <Heartbeat(Heartbeat, started daemon 140040361473600)>, <Thread(Thread-3 (_watch_pipe_fd), started daemon 140040336295488)>, <Thread(Thread-4 (_watch_pipe_fd), started daemon 140040327902784)>, <ControlThread(Control, started daemon 140040319510080)>, <HistorySavingThread(IPythonHistorySavingThread, started 140040311117376)>, <ParentPollerUnix(Thread-2, started daemon 140039891711552)>]\n"
     ]
    }
   ],
   "source": [
    "import threading\n",
    "\n",
    "print(threading.active_count())\n",
    "\n",
    "import threading\n",
    "\n",
    "print(threading.current_thread())\n",
    "\n",
    "import threading\n",
    "\n",
    "print(threading.enumerate())\n"
   ]
  },
  {
   "cell_type": "markdown",
   "id": "c26396bf-a119-42e7-bb76-a125647acbe5",
   "metadata": {},
   "source": [
    "Q2. \"Explain the following functions (run, start, join, isAlive).\""
   ]
  },
  {
   "cell_type": "code",
   "execution_count": 6,
   "id": "fd0c09ab-361d-4548-86d9-018bb8fdc726",
   "metadata": {},
   "outputs": [
    {
     "data": {
      "text/plain": [
       "'isAlive: This method returns True if the thread is currently executing (i.e., its run method is being executed), otherwise False'"
      ]
     },
     "execution_count": 6,
     "metadata": {},
     "output_type": "execute_result"
    }
   ],
   "source": [
    "\"run: This method defines the code to be executed by the thread when it is started. It should be overridden in a subclass to define the thread's behavior.\"\n",
    "\n",
    "\"start: This method starts the execution of the thread's run method. It creates a new thread of execution, allowing the thread to run concurrently with other threads.\"\n",
    "\n",
    "\"join: This method blocks the calling thread until the thread whose join method is called terminates. It allows for synchronization between multiple threads.\"\n",
    "\n",
    "\"isAlive: This method returns True if the thread is currently executing (i.e., its run method is being executed), otherwise False\""
   ]
  },
  {
   "cell_type": "markdown",
   "id": "d492e2d7-83dd-4bf7-ad23-e3e547263e17",
   "metadata": {},
   "source": [
    "Q3. Write a Python program to create two threads. Thread one must print the list of squares and thread two must print the list of cubes."
   ]
  },
  {
   "cell_type": "code",
   "execution_count": 7,
   "id": "b6837679-fb1a-46f3-bb42-c19e583ae4e1",
   "metadata": {},
   "outputs": [
    {
     "name": "stdout",
     "output_type": "stream",
     "text": [
      "Square of 1: 1\n",
      "Square of 2: 4\n",
      "Square of 3: 9\n",
      "Square of 4: 16\n",
      "Square of 5: 25\n",
      "Cube of 1: 1\n",
      "Cube of 2: 8\n",
      "Cube of 3: 27\n",
      "Cube of 4: 64\n",
      "Cube of 5: 125\n",
      "Program completed.\n"
     ]
    }
   ],
   "source": [
    "def print_squares():\n",
    "    for i in range(1, 6):\n",
    "        print(f\"Square of {i}: {i*i}\")\n",
    "\n",
    "def print_cubes():\n",
    "    for i in range(1, 6):\n",
    "        print(f\"Cube of {i}: {i*i*i}\")\n",
    "\n",
    "thread1 = threading.Thread(target=print_squares)\n",
    "thread2 = threading.Thread(target=print_cubes)\n",
    "\n",
    "thread1.start()\n",
    "thread2.start()\n",
    "\n",
    "thread1.join()\n",
    "thread2.join()\n",
    "\n",
    "print(\"Program completed.\")"
   ]
  },
  {
   "cell_type": "markdown",
   "id": "fabbf238-74aa-4669-bb84-b269025b84fb",
   "metadata": {},
   "source": [
    "Q4. State advantages and disadvantages of multithreading."
   ]
  },
  {
   "cell_type": "code",
   "execution_count": null,
   "id": "443140cf-ec1b-44a5-89eb-7a274c7fa4e1",
   "metadata": {},
   "outputs": [],
   "source": [
    "\"Advantages of Multithreading:\"\n",
    "\n",
    "\"Improved performance: Multithreading allows for parallel execution of tasks, making better use of available CPU resources and improving overall performance.\"\n",
    "\"Responsiveness: Multithreading can improve the responsiveness of applications, especially those involving user interfaces, by allowing tasks to run concurrently without blocking the main thread.\"\n",
    "\"Resource sharing: Threads within the same process can share resources such as memory, reducing the overhead of inter-process communication.\"\n",
    "\"Simplified code structure: Multithreading can simplify the design of complex applications by allowing different tasks to be handled concurrently within the same process.\"\n",
    "\"Disadvantages of Multithreading:\"\n",
    "\n",
    "Complexity: Multithreading introduces complexity in terms of synchronization, coordination, and communication between threads, which can lead to difficult-to-debug issues such as race conditions and deadlocks.\n",
    "Overhead: Creating and managing threads can introduce overhead, especially in terms of memory and CPU usage, which may reduce the overall efficiency of the application.\n",
    "Scalability limitations: While multithreading can improve performance on multi-core systems, it may not scale well on systems with a large number of CPU cores due to contention for shared resources and synchronization overhead.\""
   ]
  }
 ],
 "metadata": {
  "kernelspec": {
   "display_name": "Python 3 (ipykernel)",
   "language": "python",
   "name": "python3"
  },
  "language_info": {
   "codemirror_mode": {
    "name": "ipython",
    "version": 3
   },
   "file_extension": ".py",
   "mimetype": "text/x-python",
   "name": "python",
   "nbconvert_exporter": "python",
   "pygments_lexer": "ipython3",
   "version": "3.10.8"
  }
 },
 "nbformat": 4,
 "nbformat_minor": 5
}
